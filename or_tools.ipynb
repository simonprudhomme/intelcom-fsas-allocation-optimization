{
  "nbformat": 4,
  "nbformat_minor": 0,
  "metadata": {
    "colab": {
      "name": "or_tools.ipynb",
      "provenance": [],
      "authorship_tag": "ABX9TyMP3xDgEA/KRZaa6Q4YS/nx",
      "include_colab_link": true
    },
    "kernelspec": {
      "name": "python3",
      "display_name": "Python 3"
    },
    "language_info": {
      "name": "python"
    }
  },
  "cells": [
    {
      "cell_type": "markdown",
      "metadata": {
        "id": "view-in-github",
        "colab_type": "text"
      },
      "source": [
        "<a href=\"https://colab.research.google.com/github/simonprudhomme/optimization_with_ortools/blob/main/or_tools.ipynb\" target=\"_parent\"><img src=\"https://colab.research.google.com/assets/colab-badge.svg\" alt=\"Open In Colab\"/></a>"
      ]
    },
    {
      "cell_type": "markdown",
      "source": [
        "#Automated Reshuffling "
      ],
      "metadata": {
        "id": "VZetsC231RZp"
      }
    },
    {
      "cell_type": "code",
      "execution_count": 39,
      "metadata": {
        "colab": {
          "base_uri": "https://localhost:8080/"
        },
        "id": "yHxlo4rUGhsE",
        "outputId": "ffcd3da6-6a88-4ddb-c204-06abac6b6640"
      },
      "outputs": [
        {
          "output_type": "stream",
          "name": "stdout",
          "text": [
            "Requirement already satisfied: ortools in /usr/local/lib/python3.7/dist-packages (9.3.10497)\n",
            "Requirement already satisfied: numpy>=1.13.3 in /usr/local/lib/python3.7/dist-packages (from ortools) (1.21.6)\n",
            "Requirement already satisfied: protobuf>=3.19.4 in /usr/local/lib/python3.7/dist-packages (from ortools) (3.20.1)\n",
            "Requirement already satisfied: absl-py>=0.13 in /usr/local/lib/python3.7/dist-packages (from ortools) (1.0.0)\n",
            "Requirement already satisfied: six in /usr/local/lib/python3.7/dist-packages (from absl-py>=0.13->ortools) (1.15.0)\n"
          ]
        }
      ],
      "source": [
        "# install ortools\n",
        "!pip install ortools"
      ]
    },
    {
      "cell_type": "code",
      "source": [
        "# import packages\n",
        "from ortools.linear_solver import pywraplp\n",
        "from ortools.init import pywrapinit\n",
        "import numpy as np\n",
        "import json"
      ],
      "metadata": {
        "id": "NZ6TDvLPG2ZB"
      },
      "execution_count": 67,
      "outputs": []
    },
    {
      "cell_type": "code",
      "source": [
        "# Create the linear solver with the GLOP backend.\n",
        "solver = pywraplp.Solver('factory', problem_type=pywraplp.Solver.CBC_MIXED_INTEGER_PROGRAMMING)"
      ],
      "metadata": {
        "id": "hyijZQULG-hz"
      },
      "execution_count": 68,
      "outputs": []
    },
    {
      "cell_type": "code",
      "source": [
        "demand_per_fsa = {'H2H': {'parcels' : np.random.randint(0,1000),\n",
        "                          'distance_station1': np.random.randint(0,50),\n",
        "                          'distance_station2': np.random.randint(0,50)\n",
        "                          },\n",
        "                  'H3H': {'parcels' : np.random.randint(0,1000),\n",
        "                          'distance_station1': np.random.randint(0,50),\n",
        "                          'distance_station2': np.random.randint(0,50)\n",
        "                          },\n",
        "                  'H4H': {'parcels' : np.random.randint(0,1000),\n",
        "                          'distance_station1': np.random.randint(0,50),\n",
        "                          'distance_station2': np.random.randint(0,50)\n",
        "                          },\n",
        "                  'H5H': {'parcels' : np.random.randint(0,1000),\n",
        "                          'distance_station1': np.random.randint(0,50),\n",
        "                          'distance_station2': np.random.randint(0,50)\n",
        "                          },\n",
        "                  'H6H': {'parcels' : np.random.randint(0,1000),\n",
        "                          'distance_station1': np.random.randint(0,50),\n",
        "                          'distance_station2': np.random.randint(0,50)\n",
        "                          },\n",
        "                  'H7H': {'parcels' : np.random.randint(0,1000),\n",
        "                          'distance_station1': np.random.randint(0,50),\n",
        "                          'distance_station2': np.random.randint(0,50)\n",
        "                          },\n",
        "                  'H8H': {'parcels' : np.random.randint(0,1000),\n",
        "                          'distance_station1': np.random.randint(0,50),\n",
        "                          'distance_station2': np.random.randint(0,50)\n",
        "                          },\n",
        "                  'H9H': {'parcels' : np.random.randint(0,1000),\n",
        "                          'distance_station1': np.random.randint(0,100),\n",
        "                          'distance_station2': np.random.randint(0,100)\n",
        "                          }\n",
        "                  }\n",
        "\n",
        "print(json.dumps(demand_per_fsa, indent = 4))"
      ],
      "metadata": {
        "id": "L7MKvg36nrVn",
        "outputId": "ef6e3306-1abf-4598-a992-73aeb282c56a",
        "colab": {
          "base_uri": "https://localhost:8080/"
        }
      },
      "execution_count": 69,
      "outputs": [
        {
          "output_type": "stream",
          "name": "stdout",
          "text": [
            "{\n",
            "    \"H2H\": {\n",
            "        \"parcels\": 450,\n",
            "        \"distance_station1\": 49,\n",
            "        \"distance_station2\": 3\n",
            "    },\n",
            "    \"H3H\": {\n",
            "        \"parcels\": 497,\n",
            "        \"distance_station1\": 32,\n",
            "        \"distance_station2\": 27\n",
            "    },\n",
            "    \"H4H\": {\n",
            "        \"parcels\": 150,\n",
            "        \"distance_station1\": 32,\n",
            "        \"distance_station2\": 41\n",
            "    },\n",
            "    \"H5H\": {\n",
            "        \"parcels\": 27,\n",
            "        \"distance_station1\": 7,\n",
            "        \"distance_station2\": 30\n",
            "    },\n",
            "    \"H6H\": {\n",
            "        \"parcels\": 677,\n",
            "        \"distance_station1\": 49,\n",
            "        \"distance_station2\": 47\n",
            "    },\n",
            "    \"H7H\": {\n",
            "        \"parcels\": 973,\n",
            "        \"distance_station1\": 0,\n",
            "        \"distance_station2\": 45\n",
            "    },\n",
            "    \"H8H\": {\n",
            "        \"parcels\": 693,\n",
            "        \"distance_station1\": 13,\n",
            "        \"distance_station2\": 32\n",
            "    },\n",
            "    \"H9H\": {\n",
            "        \"parcels\": 31,\n",
            "        \"distance_station1\": 43,\n",
            "        \"distance_station2\": 7\n",
            "    }\n",
            "}\n"
          ]
        }
      ]
    },
    {
      "cell_type": "code",
      "source": [
        "# Create the variables\n",
        "\n",
        "options = {}\n",
        "for fsa in demand_per_fsa.keys():\n",
        "  option_tmp = {}\n",
        "  for station in stations:\n",
        "    option_tmp[f'{fsa}_{station}'] = solver.IntVar(0, 1, f'{fsa}_{station}')\n",
        "  options[f'{fsa}']=option_tmp\n",
        "\n",
        "solver.NumVariables()"
      ],
      "metadata": {
        "id": "kkcrFWIiort-",
        "outputId": "f12e1c1b-31b2-416c-d5e9-d72e1abc9c8d",
        "colab": {
          "base_uri": "https://localhost:8080/"
        }
      },
      "execution_count": 71,
      "outputs": [
        {
          "output_type": "execute_result",
          "data": {
            "text/plain": [
              "16"
            ]
          },
          "metadata": {},
          "execution_count": 71
        }
      ]
    },
    {
      "cell_type": "code",
      "source": [
        "# Create the constraints\n",
        "\n",
        "for fsa in options.keys():\n",
        "  solver.Add(options[fsa][f'{fsa}_station_1'] + options[fsa][f'{fsa}_station_2'] == 1)\n",
        "\n",
        "solver.Add(solver.Sum([(options[fsa][f'{fsa}_station_1'] * demand_per_fsa[fsa]['parcels'] + options[fsa][f'{fsa}_station_2'] * demand_per_fsa[fsa]['parcels']) for fsa in demand_per_fsa.keys()])==sum([demand_per_fsa[fsa]['parcels'] for fsa in demand_per_fsa.keys()]))\n",
        "\n",
        "solver.Add(solver.Sum([options[fsa][f'{fsa}_station_1'] * demand_per_fsa[fsa]['parcels'] for fsa in demand_per_fsa.keys()]) <= 2000)\n",
        "solver.Add(solver.Sum([options[fsa][f'{fsa}_station_2'] * demand_per_fsa[fsa]['parcels'] for fsa in demand_per_fsa.keys()]) >= 2000)\n",
        "print('Number of constraints =', solver.NumConstraints())"
      ],
      "metadata": {
        "id": "IyjEY7Zypfc0",
        "outputId": "3b4a881e-753f-4a57-d087-1f7651fdef98",
        "colab": {
          "base_uri": "https://localhost:8080/"
        }
      },
      "execution_count": 72,
      "outputs": [
        {
          "output_type": "stream",
          "name": "stdout",
          "text": [
            "Number of constraints = 11\n"
          ]
        }
      ]
    },
    {
      "cell_type": "code",
      "source": [
        "# Create the objective function : reduce distance from FSA to STATIONS while respecting stations capacity\n",
        "\n",
        "solver.Minimize(solver.Sum([options[fsa][f'{fsa}_station_1'] * demand_per_fsa[fsa]['distance_station1'] +  options[fsa][f'{fsa}_station_2'] * demand_per_fsa[fsa]['distance_station2'] for fsa in demand_per_fsa.keys()]))"
      ],
      "metadata": {
        "id": "ERj-5_7ZHWwA"
      },
      "execution_count": 73,
      "outputs": []
    },
    {
      "cell_type": "code",
      "source": [
        "status = solver.Solve()\n",
        "if status == pywraplp.Solver.OPTIMAL:\n",
        "    print('Solution:')\n",
        "    print('Objective value =', solver.Objective().Value())\n",
        "    station_1 = 0\n",
        "    station_2 = 0\n",
        "    for fsa in demand_per_fsa.keys():\n",
        "      if options[fsa][f'{fsa}_station_1'].solution_value() >= 1.:\n",
        "        print(f'{fsa} allocated to station 1')\n",
        "        station_1 += demand_per_fsa[fsa]['parcels']\n",
        "      else:\n",
        "        print(f'{fsa} allocated to station 2')\n",
        "        station_2 += demand_per_fsa[fsa]['parcels']\n",
        "    print('Total parcels station1:', station_1)\n",
        "    print('Total parcels station2:', station_2)\n",
        "\n",
        "else:\n",
        "    print('The problem does not have an optimal solution.')"
      ],
      "metadata": {
        "colab": {
          "base_uri": "https://localhost:8080/"
        },
        "id": "Zo-qbKGAHRur",
        "outputId": "a105398d-3394-4eac-f704-f3681a509e6b"
      },
      "execution_count": 74,
      "outputs": [
        {
          "output_type": "stream",
          "name": "stdout",
          "text": [
            "Solution:\n",
            "Objective value = 155.0\n",
            "H2H allocated to station 2\n",
            "H3H allocated to station 2\n",
            "H4H allocated to station 1\n",
            "H5H allocated to station 1\n",
            "H6H allocated to station 2\n",
            "H7H allocated to station 1\n",
            "H8H allocated to station 2\n",
            "H9H allocated to station 2\n",
            "Total parcels station1: 1150\n",
            "Total parcels station2: 2348\n"
          ]
        }
      ]
    },
    {
      "cell_type": "code",
      "source": [
        "sum([demand_per_fsa[fsa]['parcels'] for fsa in demand_per_fsa.keys()])"
      ],
      "metadata": {
        "id": "qcrA-yXnvFD1",
        "outputId": "b8b7862c-1229-4154-bf0f-d66a0d423764",
        "colab": {
          "base_uri": "https://localhost:8080/"
        }
      },
      "execution_count": 66,
      "outputs": [
        {
          "output_type": "execute_result",
          "data": {
            "text/plain": [
              "3038"
            ]
          },
          "metadata": {},
          "execution_count": 66
        }
      ]
    },
    {
      "cell_type": "code",
      "source": [
        ""
      ],
      "metadata": {
        "id": "AcPH14ehwnsR"
      },
      "execution_count": null,
      "outputs": []
    }
  ]
}