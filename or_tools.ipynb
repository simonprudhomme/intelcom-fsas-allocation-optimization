{
  "nbformat": 4,
  "nbformat_minor": 0,
  "metadata": {
    "colab": {
      "name": "or_tools.ipynb",
      "provenance": [],
      "authorship_tag": "ABX9TyMIY/mE8M2misqkxVFDCxpJ",
      "include_colab_link": true
    },
    "kernelspec": {
      "name": "python3",
      "display_name": "Python 3"
    },
    "language_info": {
      "name": "python"
    }
  },
  "cells": [
    {
      "cell_type": "markdown",
      "metadata": {
        "id": "view-in-github",
        "colab_type": "text"
      },
      "source": [
        "<a href=\"https://colab.research.google.com/github/simonprudhomme/optimization_with_ortools/blob/main/or_tools.ipynb\" target=\"_parent\"><img src=\"https://colab.research.google.com/assets/colab-badge.svg\" alt=\"Open In Colab\"/></a>"
      ]
    },
    {
      "cell_type": "code",
      "execution_count": null,
      "metadata": {
        "colab": {
          "base_uri": "https://localhost:8080/"
        },
        "id": "yHxlo4rUGhsE",
        "outputId": "dd57439d-c0a5-45bf-e3ef-514c1887f499"
      },
      "outputs": [
        {
          "output_type": "stream",
          "name": "stdout",
          "text": [
            "Requirement already satisfied: ortools in /usr/local/lib/python3.7/dist-packages (9.3.10497)\n",
            "Requirement already satisfied: protobuf>=3.19.4 in /usr/local/lib/python3.7/dist-packages (from ortools) (3.20.1)\n",
            "Requirement already satisfied: numpy>=1.13.3 in /usr/local/lib/python3.7/dist-packages (from ortools) (1.21.6)\n",
            "Requirement already satisfied: absl-py>=0.13 in /usr/local/lib/python3.7/dist-packages (from ortools) (1.0.0)\n",
            "Requirement already satisfied: six in /usr/local/lib/python3.7/dist-packages (from absl-py>=0.13->ortools) (1.15.0)\n"
          ]
        }
      ],
      "source": [
        "# install ortools\n",
        "!pip install ortools"
      ]
    },
    {
      "cell_type": "code",
      "source": [
        "# import packages\n",
        "from ortools.linear_solver import pywraplp\n",
        "from ortools.init import pywrapinit"
      ],
      "metadata": {
        "id": "NZ6TDvLPG2ZB"
      },
      "execution_count": null,
      "outputs": []
    },
    {
      "cell_type": "code",
      "source": [
        "# Create the linear solver with the GLOP backend.\n",
        "solver = pywraplp.Solver('factory', problem_type =pywraplp.Solver.CBC_MIXED_INTEGER_PROGRAMMING)"
      ],
      "metadata": {
        "id": "hyijZQULG-hz"
      },
      "execution_count": null,
      "outputs": []
    },
    {
      "cell_type": "code",
      "source": [
        "# Create the variables\n",
        "item1_factory1 = solver.IntVar(10, solver.infinity(), 'item1_factory1')\n",
        "item2_factory1 = solver.IntVar(10, solver.infinity(), 'item2_factory1')\n",
        "item1_factory2 = solver.IntVar(0, solver.infinity(), 'item1_factory2')\n",
        "\n",
        "factory2 = solver.IntVar(0, 1, 'factory2')\n",
        "\n",
        "factory2_cost = 10000\n",
        "\n",
        "print('Number of variables =', solver.NumVariables())"
      ],
      "metadata": {
        "colab": {
          "base_uri": "https://localhost:8080/"
        },
        "id": "wQcjhbYOHBMJ",
        "outputId": "18e11de3-bd9d-4240-b94d-2012b04e8e36"
      },
      "execution_count": null,
      "outputs": [
        {
          "output_type": "stream",
          "name": "stdout",
          "text": [
            "Number of variables = 4\n"
          ]
        }
      ]
    },
    {
      "cell_type": "code",
      "source": [
        "# Constraint 0\n",
        "solver.Add(item1_factory1 >= 100)\n",
        "\n",
        "# Constraint 1\n",
        "solver.Add(item2_factory1 >= 150)\n",
        "\n",
        "# Constraint 2\n",
        "solver.Add(factory2*factory2_cost>=item1_factory2)\n",
        "           \n",
        "# Constraint 3\n",
        "solver.Add(item1_factory1 + item2_factory1 + item1_factory2 == 1500.0)\n",
        "\n",
        "print('Number of constraints =', solver.NumConstraints())"
      ],
      "metadata": {
        "colab": {
          "base_uri": "https://localhost:8080/"
        },
        "id": "HbC4OHm7HHlh",
        "outputId": "087b101b-a829-496e-ef10-105524f832d8"
      },
      "execution_count": null,
      "outputs": [
        {
          "output_type": "stream",
          "name": "stdout",
          "text": [
            "Number of constraints = 4\n"
          ]
        }
      ]
    },
    {
      "cell_type": "code",
      "source": [
        "# Create the objective function\n",
        "solver.Maximize((item1_factory1*5.00 + item2_factory1*6.00 + item1_factory2*15 - factory2*factory2_cost))"
      ],
      "metadata": {
        "id": "ERj-5_7ZHWwA"
      },
      "execution_count": null,
      "outputs": []
    },
    {
      "cell_type": "code",
      "source": [
        "status = solver.Solve()\n",
        "if status == pywraplp.Solver.OPTIMAL:\n",
        "    print('Solution:')\n",
        "    print('Objective value =', solver.Objective().Value())\n",
        "    \n",
        "    print('item1_factory1 =', item1_factory1.solution_value(), '@ 5.00$ :', item1_factory1.solution_value()*5 )\n",
        "    print('item2_factory1 =', item2_factory1.solution_value(), '@ 6.00$ :', item2_factory1.solution_value()*6 )\n",
        "    print('item1_factory2 =', item1_factory2.solution_value(), '@ 15.00$ :', item1_factory2.solution_value()*15)\n",
        "    print('factory2 =', factory2.solution_value(), f'@{factory2_cost}$ :',  factory2.solution_value()*factory2_cost)\n",
        "else:\n",
        "    print('The problem does not have an optimal solution.')"
      ],
      "metadata": {
        "colab": {
          "base_uri": "https://localhost:8080/"
        },
        "id": "Zo-qbKGAHRur",
        "outputId": "986c33a9-d0b4-4110-a542-e45c2f0f291c"
      },
      "execution_count": null,
      "outputs": [
        {
          "output_type": "stream",
          "name": "stdout",
          "text": [
            "Solution:\n",
            "Objective value = 10150.0\n",
            "item1_factory1 = 100.0 @ 5.00$ : 500.0\n",
            "item2_factory1 = 150.0 @ 6.00$ : 900.0\n",
            "item1_factory2 = 1250.0 @ 15.00$ : 18750.0\n",
            "factory2 = 1.0 @10000$ : 10000.0\n"
          ]
        }
      ]
    },
    {
      "cell_type": "code",
      "source": [
        "solver."
      ],
      "metadata": {
        "id": "dh9umh-_HZAg"
      },
      "execution_count": null,
      "outputs": []
    }
  ]
}