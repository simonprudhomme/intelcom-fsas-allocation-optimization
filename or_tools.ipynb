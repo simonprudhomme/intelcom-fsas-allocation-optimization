{
  "nbformat": 4,
  "nbformat_minor": 0,
  "metadata": {
    "colab": {
      "name": "or_tools.ipynb",
      "provenance": [],
      "authorship_tag": "ABX9TyMzyx74bQL/es+Sl5pzdKUK",
      "include_colab_link": true
    },
    "kernelspec": {
      "name": "python3",
      "display_name": "Python 3"
    },
    "language_info": {
      "name": "python"
    }
  },
  "cells": [
    {
      "cell_type": "markdown",
      "metadata": {
        "id": "view-in-github",
        "colab_type": "text"
      },
      "source": [
        "<a href=\"https://colab.research.google.com/github/simonprudhomme/optimization_with_ortools/blob/main/or_tools.ipynb\" target=\"_parent\"><img src=\"https://colab.research.google.com/assets/colab-badge.svg\" alt=\"Open In Colab\"/></a>"
      ]
    },
    {
      "cell_type": "markdown",
      "source": [
        "#Automated Reshuffling"
      ],
      "metadata": {
        "id": "VZetsC231RZp"
      }
    },
    {
      "cell_type": "code",
      "execution_count": 81,
      "metadata": {
        "colab": {
          "base_uri": "https://localhost:8080/"
        },
        "id": "yHxlo4rUGhsE",
        "outputId": "328c1439-51cf-4261-e88c-1d75c805b784"
      },
      "outputs": [
        {
          "output_type": "stream",
          "name": "stdout",
          "text": [
            "Requirement already satisfied: ortools in /usr/local/lib/python3.7/dist-packages (9.3.10497)\n",
            "Requirement already satisfied: numpy>=1.13.3 in /usr/local/lib/python3.7/dist-packages (from ortools) (1.21.6)\n",
            "Requirement already satisfied: protobuf>=3.19.4 in /usr/local/lib/python3.7/dist-packages (from ortools) (3.20.1)\n",
            "Requirement already satisfied: absl-py>=0.13 in /usr/local/lib/python3.7/dist-packages (from ortools) (1.0.0)\n",
            "Requirement already satisfied: six in /usr/local/lib/python3.7/dist-packages (from absl-py>=0.13->ortools) (1.15.0)\n"
          ]
        }
      ],
      "source": [
        "# install ortools\n",
        "!pip install ortools"
      ]
    },
    {
      "cell_type": "code",
      "source": [
        "# import packages\n",
        "from ortools.linear_solver import pywraplp\n",
        "from ortools.init import pywrapinit\n",
        "import numpy as np\n",
        "import json"
      ],
      "metadata": {
        "id": "NZ6TDvLPG2ZB"
      },
      "execution_count": 4,
      "outputs": []
    },
    {
      "cell_type": "code",
      "source": [
        "# Create the linear solver with the GLOP backend.\n",
        "solver = pywraplp.Solver('factory', problem_type=pywraplp.Solver.CBC_MIXED_INTEGER_PROGRAMMING)"
      ],
      "metadata": {
        "id": "hyijZQULG-hz"
      },
      "execution_count": 5,
      "outputs": []
    },
    {
      "cell_type": "code",
      "source": [
        "demand_per_fsa = {'H2H': {'parcels' : np.random.randint(1,1000),\n",
        "                          'distance_station1': np.random.randint(1,75),\n",
        "                          'distance_station2': np.random.randint(1,75)\n",
        "                          },\n",
        "                  'H3H': {'parcels' : np.random.randint(1,1000),\n",
        "                          'distance_station1': np.random.randint(1,75),\n",
        "                          'distance_station2': np.random.randint(1,75)\n",
        "                          },\n",
        "                  'H4H': {'parcels' : np.random.randint(1,1000),\n",
        "                          'distance_station1': np.random.randint(1,75),\n",
        "                          'distance_station2': np.random.randint(1,75)\n",
        "                          },\n",
        "                  'H5H': {'parcels' : np.random.randint(1,1000),\n",
        "                          'distance_station1': np.random.randint(1,75),\n",
        "                          'distance_station2': np.random.randint(1,75)\n",
        "                          },\n",
        "                  'H6H': {'parcels' : np.random.randint(1,1000),\n",
        "                          'distance_station1': np.random.randint(1,75),\n",
        "                          'distance_station2': np.random.randint(1,75)\n",
        "                          },\n",
        "                  'H7H': {'parcels' : np.random.randint(1,1000),\n",
        "                          'distance_station1': np.random.randint(1,75),\n",
        "                          'distance_station2': np.random.randint(1,75)\n",
        "                          },\n",
        "                  'H8H': {'parcels' : np.random.randint(1,1000),\n",
        "                          'distance_station1': np.random.randint(1,75),\n",
        "                          'distance_station2': np.random.randint(1,75)\n",
        "                          },\n",
        "                  'H9H': {'parcels' : np.random.randint(1,1000),\n",
        "                          'distance_station1': np.random.randint(1,75),\n",
        "                          'distance_station2': np.random.randint(1,75)\n",
        "                          }\n",
        "                  }\n",
        "\n",
        "\n",
        "stations = {'station_1':{'capacity':2000},\n",
        "            'station_2':{'capacity':2000}}\n",
        "\n",
        "for i in [stations,demand_per_fsa]:\n",
        "  print(json.dumps(i, indent = 4))"
      ],
      "metadata": {
        "colab": {
          "base_uri": "https://localhost:8080/"
        },
        "id": "L7MKvg36nrVn",
        "outputId": "b64d6875-0707-4062-c0e1-e1e59a7e62e4"
      },
      "execution_count": 15,
      "outputs": [
        {
          "output_type": "stream",
          "name": "stdout",
          "text": [
            "{\n",
            "    \"station_1\": {\n",
            "        \"capacity\": 2000\n",
            "    },\n",
            "    \"station_2\": {\n",
            "        \"capacity\": 2000\n",
            "    }\n",
            "}\n",
            "{\n",
            "    \"H2H\": {\n",
            "        \"parcels\": 524,\n",
            "        \"distance_station1\": 14,\n",
            "        \"distance_station2\": 48\n",
            "    },\n",
            "    \"H3H\": {\n",
            "        \"parcels\": 74,\n",
            "        \"distance_station1\": 53,\n",
            "        \"distance_station2\": 8\n",
            "    },\n",
            "    \"H4H\": {\n",
            "        \"parcels\": 119,\n",
            "        \"distance_station1\": 7,\n",
            "        \"distance_station2\": 70\n",
            "    },\n",
            "    \"H5H\": {\n",
            "        \"parcels\": 686,\n",
            "        \"distance_station1\": 33,\n",
            "        \"distance_station2\": 47\n",
            "    },\n",
            "    \"H6H\": {\n",
            "        \"parcels\": 785,\n",
            "        \"distance_station1\": 56,\n",
            "        \"distance_station2\": 27\n",
            "    },\n",
            "    \"H7H\": {\n",
            "        \"parcels\": 634,\n",
            "        \"distance_station1\": 66,\n",
            "        \"distance_station2\": 71\n",
            "    },\n",
            "    \"H8H\": {\n",
            "        \"parcels\": 64,\n",
            "        \"distance_station1\": 41,\n",
            "        \"distance_station2\": 13\n",
            "    },\n",
            "    \"H9H\": {\n",
            "        \"parcels\": 314,\n",
            "        \"distance_station1\": 69,\n",
            "        \"distance_station2\": 25\n",
            "    }\n",
            "}\n"
          ]
        }
      ]
    },
    {
      "cell_type": "code",
      "source": [
        "# Create the variables\n",
        "\n",
        "options = {}\n",
        "for fsa in demand_per_fsa.keys():\n",
        "  option_tmp = {}\n",
        "  for station in stations.keys():\n",
        "    option_tmp[f'{fsa}_{station}'] = solver.IntVar(0, 1, f'{fsa}_{station}')\n",
        "  options[f'{fsa}']=option_tmp\n",
        "\n",
        "solver.NumVariables()"
      ],
      "metadata": {
        "colab": {
          "base_uri": "https://localhost:8080/"
        },
        "id": "kkcrFWIiort-",
        "outputId": "054f093d-799f-4dec-f3c4-4534dc6e20be"
      },
      "execution_count": 7,
      "outputs": [
        {
          "output_type": "execute_result",
          "data": {
            "text/plain": [
              "16"
            ]
          },
          "metadata": {},
          "execution_count": 7
        }
      ]
    },
    {
      "cell_type": "code",
      "source": [
        "# Create the constraints\n",
        "\n",
        "# Allocate FSA to one station only\n",
        "for fsa in options.keys():\n",
        "  solver.Add(options[fsa][f'{fsa}_station_1'] + options[fsa][f'{fsa}_station_2'] == 1)\n",
        "\n",
        "# Allocate all FSAs \n",
        "solver.Add(solver.Sum([(options[fsa][f'{fsa}_station_1'] * demand_per_fsa[fsa]['parcels'] + options[fsa][f'{fsa}_station_2'] * demand_per_fsa[fsa]['parcels']) for fsa in demand_per_fsa.keys()])==sum([demand_per_fsa[fsa]['parcels'] for fsa in demand_per_fsa.keys()]))\n",
        "\n",
        "# Respect stations Capacity\n",
        "solver.Add(solver.Sum([options[fsa][f'{fsa}_station_1'] * demand_per_fsa[fsa]['parcels'] for fsa in demand_per_fsa.keys()]) <= stations['station_1']['capacity'])\n",
        "solver.Add(solver.Sum([options[fsa][f'{fsa}_station_2'] * demand_per_fsa[fsa]['parcels'] for fsa in demand_per_fsa.keys()]) >= stations['station_2']['capacity'])\n",
        "\n",
        "print('Number of constraints =', solver.NumConstraints())"
      ],
      "metadata": {
        "colab": {
          "base_uri": "https://localhost:8080/"
        },
        "id": "IyjEY7Zypfc0",
        "outputId": "f7c880ed-139e-4366-f0a2-54ed4f4e5460"
      },
      "execution_count": 8,
      "outputs": [
        {
          "output_type": "stream",
          "name": "stdout",
          "text": [
            "Number of constraints = 11\n"
          ]
        }
      ]
    },
    {
      "cell_type": "code",
      "source": [
        "# Create the objective function : reduce distance from FSA to STATIONS while respecting stations capacity\n",
        "\n",
        "solver.Minimize(solver.Sum([options[fsa][f'{fsa}_station_1'] * demand_per_fsa[fsa]['distance_station1'] +  options[fsa][f'{fsa}_station_2'] * demand_per_fsa[fsa]['distance_station2'] for fsa in demand_per_fsa.keys()]))"
      ],
      "metadata": {
        "id": "ERj-5_7ZHWwA"
      },
      "execution_count": 13,
      "outputs": []
    },
    {
      "cell_type": "code",
      "source": [
        "status = solver.Solve()\n",
        "if status == pywraplp.Solver.OPTIMAL:\n",
        "    print('Solution:')\n",
        "    print('Objective value =', solver.Objective().Value())\n",
        "    station_1 = 0\n",
        "    station_2 = 0\n",
        "    for fsa in demand_per_fsa.keys():\n",
        "      if options[fsa][f'{fsa}_station_1'].solution_value() >= 1.:\n",
        "        print(f'{fsa} allocated to station 1')\n",
        "        station_1 += demand_per_fsa[fsa]['parcels']\n",
        "      else:\n",
        "        print(f'{fsa} allocated to station 2')\n",
        "        station_2 += demand_per_fsa[fsa]['parcels']\n",
        "    print('Total parcels station1:', station_1)\n",
        "    print('Total parcels station2:', station_2)\n",
        "\n",
        "else:\n",
        "    print('The problem does not have an optimal solution.')"
      ],
      "metadata": {
        "colab": {
          "base_uri": "https://localhost:8080/"
        },
        "id": "Zo-qbKGAHRur",
        "outputId": "80426428-f8a9-4ab7-f898-f17cc797e6e7"
      },
      "execution_count": 14,
      "outputs": [
        {
          "output_type": "stream",
          "name": "stdout",
          "text": [
            "Solution:\n",
            "Objective value = 203.0\n",
            "H2H allocated to station 2\n",
            "H3H allocated to station 2\n",
            "H4H allocated to station 1\n",
            "H5H allocated to station 2\n",
            "H6H allocated to station 2\n",
            "H7H allocated to station 2\n",
            "H8H allocated to station 2\n",
            "H9H allocated to station 1\n",
            "Total parcels station1: 366\n",
            "Total parcels station2: 3693\n"
          ]
        }
      ]
    },
    {
      "cell_type": "code",
      "source": [
        "sum([demand_per_fsa[fsa]['parcels'] for fsa in demand_per_fsa.keys()])"
      ],
      "metadata": {
        "colab": {
          "base_uri": "https://localhost:8080/"
        },
        "id": "qcrA-yXnvFD1",
        "outputId": "f11f8706-ec02-4cd9-fbbe-4068fc154995"
      },
      "execution_count": 11,
      "outputs": [
        {
          "output_type": "execute_result",
          "data": {
            "text/plain": [
              "3928"
            ]
          },
          "metadata": {},
          "execution_count": 11
        }
      ]
    },
    {
      "cell_type": "code",
      "source": [
        ""
      ],
      "metadata": {
        "id": "AcPH14ehwnsR"
      },
      "execution_count": null,
      "outputs": []
    }
  ]
}